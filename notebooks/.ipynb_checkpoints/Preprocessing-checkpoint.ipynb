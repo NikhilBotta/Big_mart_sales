{
 "cells": [
  {
   "cell_type": "code",
   "execution_count": 1,
   "metadata": {
    "vscode": {
     "languageId": "plaintext"
    }
   },
   "outputs": [],
   "source": [
    "import pandas as pd \n",
    "import numpy as np\n",
    "import matplotlib.pyplot as plt\n",
    "%matplotlib inline\n",
    "import seaborn as sns\n",
    "import warnings\n",
    "warnings.filterwarnings(\"ignore\")\n",
    "import os\n",
    "from sklearn.preprocessing import OneHotEncoder, OrdinalEncoder , StandardScaler\n",
    "from sklearn.pipeline import Pipeline\n",
    "from sklearn.compose import ColumnTransformer\n",
    "from sklearn.impute import KNNImputer, SimpleImputer\n",
    "from sklearn.model_selection import train_test_split\n",
    "import pickle"
   ]
  },
  {
   "cell_type": "code",
   "execution_count": 2,
   "metadata": {},
   "outputs": [],
   "source": [
    "# changing the directory\n",
    "os.chdir(\"../\")\n",
    "%pwd\n",
    " #read the data file\n",
    "data=pd.read_csv('BIG_MART_DATA/train_v9rqX0R.csv')"
   ]
  },
  {
   "cell_type": "code",
   "execution_count": 3,
   "metadata": {},
   "outputs": [
    {
     "data": {
      "text/html": [
       "<div>\n",
       "<style scoped>\n",
       "    .dataframe tbody tr th:only-of-type {\n",
       "        vertical-align: middle;\n",
       "    }\n",
       "\n",
       "    .dataframe tbody tr th {\n",
       "        vertical-align: top;\n",
       "    }\n",
       "\n",
       "    .dataframe thead th {\n",
       "        text-align: right;\n",
       "    }\n",
       "</style>\n",
       "<table border=\"1\" class=\"dataframe\">\n",
       "  <thead>\n",
       "    <tr style=\"text-align: right;\">\n",
       "      <th></th>\n",
       "      <th>Item_Identifier</th>\n",
       "      <th>Item_Weight</th>\n",
       "      <th>Item_Fat_Content</th>\n",
       "      <th>Item_Visibility</th>\n",
       "      <th>Item_Type</th>\n",
       "      <th>Item_MRP</th>\n",
       "      <th>Outlet_Identifier</th>\n",
       "      <th>Outlet_Establishment_Year</th>\n",
       "      <th>Outlet_Size</th>\n",
       "      <th>Outlet_Location_Type</th>\n",
       "      <th>Outlet_Type</th>\n",
       "      <th>Item_Outlet_Sales</th>\n",
       "    </tr>\n",
       "  </thead>\n",
       "  <tbody>\n",
       "    <tr>\n",
       "      <th>0</th>\n",
       "      <td>FDA15</td>\n",
       "      <td>9.30</td>\n",
       "      <td>Low Fat</td>\n",
       "      <td>0.016047</td>\n",
       "      <td>Dairy</td>\n",
       "      <td>249.8092</td>\n",
       "      <td>OUT049</td>\n",
       "      <td>1999</td>\n",
       "      <td>Medium</td>\n",
       "      <td>Tier 1</td>\n",
       "      <td>Supermarket Type1</td>\n",
       "      <td>3735.1380</td>\n",
       "    </tr>\n",
       "    <tr>\n",
       "      <th>1</th>\n",
       "      <td>DRC01</td>\n",
       "      <td>5.92</td>\n",
       "      <td>Regular</td>\n",
       "      <td>0.019278</td>\n",
       "      <td>Soft Drinks</td>\n",
       "      <td>48.2692</td>\n",
       "      <td>OUT018</td>\n",
       "      <td>2009</td>\n",
       "      <td>Medium</td>\n",
       "      <td>Tier 3</td>\n",
       "      <td>Supermarket Type2</td>\n",
       "      <td>443.4228</td>\n",
       "    </tr>\n",
       "    <tr>\n",
       "      <th>2</th>\n",
       "      <td>FDN15</td>\n",
       "      <td>17.50</td>\n",
       "      <td>Low Fat</td>\n",
       "      <td>0.016760</td>\n",
       "      <td>Meat</td>\n",
       "      <td>141.6180</td>\n",
       "      <td>OUT049</td>\n",
       "      <td>1999</td>\n",
       "      <td>Medium</td>\n",
       "      <td>Tier 1</td>\n",
       "      <td>Supermarket Type1</td>\n",
       "      <td>2097.2700</td>\n",
       "    </tr>\n",
       "    <tr>\n",
       "      <th>3</th>\n",
       "      <td>FDX07</td>\n",
       "      <td>19.20</td>\n",
       "      <td>Regular</td>\n",
       "      <td>0.000000</td>\n",
       "      <td>Fruits and Vegetables</td>\n",
       "      <td>182.0950</td>\n",
       "      <td>OUT010</td>\n",
       "      <td>1998</td>\n",
       "      <td>NaN</td>\n",
       "      <td>Tier 3</td>\n",
       "      <td>Grocery Store</td>\n",
       "      <td>732.3800</td>\n",
       "    </tr>\n",
       "    <tr>\n",
       "      <th>4</th>\n",
       "      <td>NCD19</td>\n",
       "      <td>8.93</td>\n",
       "      <td>Low Fat</td>\n",
       "      <td>0.000000</td>\n",
       "      <td>Household</td>\n",
       "      <td>53.8614</td>\n",
       "      <td>OUT013</td>\n",
       "      <td>1987</td>\n",
       "      <td>High</td>\n",
       "      <td>Tier 3</td>\n",
       "      <td>Supermarket Type1</td>\n",
       "      <td>994.7052</td>\n",
       "    </tr>\n",
       "  </tbody>\n",
       "</table>\n",
       "</div>"
      ],
      "text/plain": [
       "  Item_Identifier  Item_Weight Item_Fat_Content  Item_Visibility  \\\n",
       "0           FDA15         9.30          Low Fat         0.016047   \n",
       "1           DRC01         5.92          Regular         0.019278   \n",
       "2           FDN15        17.50          Low Fat         0.016760   \n",
       "3           FDX07        19.20          Regular         0.000000   \n",
       "4           NCD19         8.93          Low Fat         0.000000   \n",
       "\n",
       "               Item_Type  Item_MRP Outlet_Identifier  \\\n",
       "0                  Dairy  249.8092            OUT049   \n",
       "1            Soft Drinks   48.2692            OUT018   \n",
       "2                   Meat  141.6180            OUT049   \n",
       "3  Fruits and Vegetables  182.0950            OUT010   \n",
       "4              Household   53.8614            OUT013   \n",
       "\n",
       "   Outlet_Establishment_Year Outlet_Size Outlet_Location_Type  \\\n",
       "0                       1999      Medium               Tier 1   \n",
       "1                       2009      Medium               Tier 3   \n",
       "2                       1999      Medium               Tier 1   \n",
       "3                       1998         NaN               Tier 3   \n",
       "4                       1987        High               Tier 3   \n",
       "\n",
       "         Outlet_Type  Item_Outlet_Sales  \n",
       "0  Supermarket Type1          3735.1380  \n",
       "1  Supermarket Type2           443.4228  \n",
       "2  Supermarket Type1          2097.2700  \n",
       "3      Grocery Store           732.3800  \n",
       "4  Supermarket Type1           994.7052  "
      ]
     },
     "execution_count": 3,
     "metadata": {},
     "output_type": "execute_result"
    }
   ],
   "source": [
    "data.head()"
   ]
  },
  {
   "cell_type": "code",
   "execution_count": 4,
   "metadata": {},
   "outputs": [],
   "source": [
    "x=data.drop(['Item_Outlet_Sales'],axis=1)\n",
    "y=data['Item_Outlet_Sales']\n",
    "train_x,test_x,train_y,test_y=train_test_split(x,y,test_size=0.20,random_state=42)\n",
    "\n"
   ]
  },
  {
   "cell_type": "code",
   "execution_count": 5,
   "metadata": {},
   "outputs": [],
   "source": [
    "\n",
    "def item_Fat_content(data):\n",
    "    data['Item_Fat_Content'] = data['Item_Fat_Content'].replace({'low fat': 'Low Fat',\n",
    "                                                                'LF': 'Low Fat',\n",
    "                                                                'Low fat': 'Low Fat',\n",
    "                                                                'reg': 'Regular',\n",
    "                                                                'Regular': 'Regular'\n",
    "                                                                    })\n",
    "    return data\n",
    "def preprocessing(DATA_TRANSFORMATION_IMPUTER_PARAMS,categorical_imputer,numerical_cols,one_hot_cols,ordinal_cols,category):\n",
    "        \n",
    "        ## imputing missing values of numerical variables, converting into same units\n",
    "    numerical_col=Pipeline(steps=[\n",
    "        (\"imputer\",KNNImputer(**DATA_TRANSFORMATION_IMPUTER_PARAMS)),\n",
    "        (\"standscaler\",StandardScaler())\n",
    "    ])\n",
    "        #coverting category variables into one-hot and imputing missing values\n",
    "    one_hot_col = Pipeline(steps=[\n",
    "    (\"imputer\",categorical_imputer),\n",
    "    (\"one_hot\", OneHotEncoder(handle_unknown=\"ignore\", sparse_output=False,drop='first')) ## because we have only 2 outcomes eg:gender male and female \n",
    "    ])\n",
    "        #coverting ordinal variables into ordinal and imputing missing values\n",
    "    ordinal_col = Pipeline(steps=[\n",
    "    (\"imputer\",categorical_imputer),\n",
    "    (\"ordinal\", OrdinalEncoder(categories=category))\n",
    "    ])\n",
    "        \n",
    "    pre_processor = (ColumnTransformer(transformers=[\n",
    "    (\"numerical\", numerical_col, numerical_cols),\n",
    "    (\"one-hot\", one_hot_col, one_hot_cols),\n",
    "    (\"ordinal\", ordinal_col, ordinal_cols)\n",
    "    ],verbose_feature_names_out=True).set_output(transform='pandas'))\n",
    "        \n",
    "    return pre_processor\n",
    "    \n",
    "             \n",
    "        \n",
    "        "
   ]
  },
  {
   "cell_type": "code",
   "execution_count": 6,
   "metadata": {},
   "outputs": [],
   "source": [
    "DATA_TRANSFORMATION_IMPUTER_PARAMS = {\n",
    "    \"missing_values\": np.nan,\n",
    "    \"n_neighbors\": 3,\n",
    "    \"weights\": \"uniform\"\n",
    "}\n",
    "categorical_imputer = SimpleImputer(strategy=\"most_frequent\")\n",
    "numerical_cols=['Item_Weight','Item_Visibility','Item_MRP','Outlet_Establishment_Year']\n",
    "one_hot_cols=['Item_Fat_Content','Item_Type','Outlet_Identifier','Outlet_Type']\n",
    "ordinal_cols=['Outlet_Size','Outlet_Location_Type']\n",
    "category = [['Small', 'Medium', 'High'],['Tier 3', 'Tier 2','Tier 1']]  # each list corresponds to a feature\n",
    "\n"
   ]
  },
  {
   "cell_type": "code",
   "execution_count": 7,
   "metadata": {},
   "outputs": [],
   "source": [
    "train_x=item_Fat_content(train_x)\n",
    "test_x=item_Fat_content(test_x)\n",
    "preprecossing=preprocessing(DATA_TRANSFORMATION_IMPUTER_PARAMS,categorical_imputer,numerical_cols,one_hot_cols,ordinal_cols,category)"
   ]
  },
  {
   "cell_type": "code",
   "execution_count": 8,
   "metadata": {},
   "outputs": [],
   "source": [
    "processing_obj=preprecossing.fit(train_x)\n",
    "scaled_train_x=processing_obj.transform(train_x)\n",
    "scaled_test_x=processing_obj.transform(test_x)"
   ]
  },
  {
   "cell_type": "code",
   "execution_count": 9,
   "metadata": {},
   "outputs": [],
   "source": [
    "preprocessed_train_data=pd.concat([scaled_train_x, train_y], axis=1)\n",
    "preprocessed_test_data=pd.concat([scaled_test_x, test_y], axis=1)"
   ]
  },
  {
   "cell_type": "code",
   "execution_count": 10,
   "metadata": {},
   "outputs": [],
   "source": [
    "directory = 'notebooks/pickle and trained data/'"
   ]
  },
  {
   "cell_type": "code",
   "execution_count": 11,
   "metadata": {},
   "outputs": [],
   "source": [
    "preprocessed_train_data.to_csv(f'{directory}preprocessed_train_data.csv')\n",
    "preprocessed_test_data.to_csv(f'{directory}preprocessed_test_data.csv')\n",
    "with open(f'{directory}processing_obj.pkl', 'wb') as file:\n",
    "    pickle.dump(processing_obj, file)\n"
   ]
  }
 ],
 "metadata": {
  "kernelspec": {
   "display_name": "Python 3 (ipykernel)",
   "language": "python",
   "name": "python3"
  },
  "language_info": {
   "codemirror_mode": {
    "name": "ipython",
    "version": 3
   },
   "file_extension": ".py",
   "mimetype": "text/x-python",
   "name": "python",
   "nbconvert_exporter": "python",
   "pygments_lexer": "ipython3",
   "version": "3.11.7"
  }
 },
 "nbformat": 4,
 "nbformat_minor": 4
}
